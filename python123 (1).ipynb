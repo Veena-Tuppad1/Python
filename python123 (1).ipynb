{
 "cells": [
  {
   "cell_type": "code",
   "execution_count": null,
   "id": "d0666a68-7bd7-485b-b1e4-56160ffbb17a",
   "metadata": {},
   "outputs": [],
   "source": []
  },
  {
   "cell_type": "code",
   "execution_count": null,
   "id": "7210b296-0cf8-4fde-9234-8e702cab05e5",
   "metadata": {},
   "outputs": [],
   "source": [
    "#Variables\n",
    "#Variables are place holders,store it and it is useful for future purpose\n",
    "#it is case sensitive\n",
    "#variable names should be single word\n",
    "#variables can have only one special charcater allowed for naming(Underscore _) {@#$%^&*-->Not allowed}\n",
    "#the name of the variable cannot start with number\n",
    "#dont use keywords for your varibales names"
   ]
  },
  {
   "cell_type": "code",
   "execution_count": null,
   "id": "87a5e2a8-abdb-4abb-926b-db05f227fa39",
   "metadata": {},
   "outputs": [],
   "source": [
    "a=7"
   ]
  },
  {
   "cell_type": "code",
   "execution_count": 1,
   "id": "7fdab2d6-b29e-41a2-967e-956002d5db2f",
   "metadata": {},
   "outputs": [
    {
     "ename": "NameError",
     "evalue": "name 'a' is not defined",
     "output_type": "error",
     "traceback": [
      "\u001b[1;31m---------------------------------------------------------------------------\u001b[0m",
      "\u001b[1;31mNameError\u001b[0m                                 Traceback (most recent call last)",
      "Cell \u001b[1;32mIn[1], line 1\u001b[0m\n\u001b[1;32m----> 1\u001b[0m \u001b[38;5;28mprint\u001b[39m(a)\n",
      "\u001b[1;31mNameError\u001b[0m: name 'a' is not defined"
     ]
    }
   ],
   "source": [
    "print(a)"
   ]
  },
  {
   "cell_type": "code",
   "execution_count": 15,
   "id": "3f7c8f6d-1297-4689-81e0-18acb65678df",
   "metadata": {},
   "outputs": [
    {
     "name": "stdout",
     "output_type": "stream",
     "text": [
      "12\n"
     ]
    }
   ],
   "source": [
    "b=12\n",
    "print(b)"
   ]
  },
  {
   "cell_type": "code",
   "execution_count": 17,
   "id": "78552289-2872-4863-8c9f-dd11a32b966d",
   "metadata": {},
   "outputs": [
    {
     "name": "stdout",
     "output_type": "stream",
     "text": [
      "10\n"
     ]
    }
   ],
   "source": [
    "a=10\n",
    "print(a)"
   ]
  },
  {
   "cell_type": "code",
   "execution_count": 19,
   "id": "59af8446-4ca8-468b-ae81-074de240690d",
   "metadata": {},
   "outputs": [
    {
     "name": "stdout",
     "output_type": "stream",
     "text": [
      "Veena\n"
     ]
    }
   ],
   "source": [
    "a=\"Veena\"\n",
    "print(a)"
   ]
  },
  {
   "cell_type": "code",
   "execution_count": 13,
   "id": "aaefc370-2c13-44c9-ae65-4b6a175de6a7",
   "metadata": {},
   "outputs": [
    {
     "name": "stdout",
     "output_type": "stream",
     "text": [
      "Vidya\n",
      "78\n"
     ]
    }
   ],
   "source": [
    "c=\"Vidya\"\n",
    "print(c)\n",
    "c=78\n",
    "print(c)      #overwrite (Variables are changable)\n"
   ]
  },
  {
   "cell_type": "code",
   "execution_count": 21,
   "id": "2e56268a-edd0-4c07-988b-c92e485d90d5",
   "metadata": {},
   "outputs": [],
   "source": [
    "a=10"
   ]
  },
  {
   "cell_type": "code",
   "execution_count": 23,
   "id": "2ad73f96-9eee-4343-84c8-5b485df94bb4",
   "metadata": {},
   "outputs": [
    {
     "name": "stdout",
     "output_type": "stream",
     "text": [
      "10\n"
     ]
    }
   ],
   "source": [
    "print(a)"
   ]
  },
  {
   "cell_type": "code",
   "execution_count": 25,
   "id": "58410145-d632-4f3c-8d79-62fbae7b9a78",
   "metadata": {},
   "outputs": [],
   "source": [
    "a=10"
   ]
  },
  {
   "cell_type": "code",
   "execution_count": 27,
   "id": "f3e02a09-e6fd-496a-9474-6c6ca892786f",
   "metadata": {},
   "outputs": [],
   "source": [
    "b=20"
   ]
  },
  {
   "cell_type": "code",
   "execution_count": 29,
   "id": "87ebd002-90a4-4439-864b-092fdf6cb4bb",
   "metadata": {},
   "outputs": [],
   "source": [
    "c=a+b"
   ]
  },
  {
   "cell_type": "code",
   "execution_count": 31,
   "id": "6f92e8a8-8833-4813-93c8-f7492cdbf5df",
   "metadata": {},
   "outputs": [
    {
     "name": "stdout",
     "output_type": "stream",
     "text": [
      "30\n"
     ]
    }
   ],
   "source": [
    "print(c)"
   ]
  },
  {
   "cell_type": "code",
   "execution_count": null,
   "id": "ff960417-0432-49e9-a6c0-5b75135656fa",
   "metadata": {},
   "outputs": [],
   "source": []
  }
 ],
 "metadata": {
  "kernelspec": {
   "display_name": "Python [conda env:base] *",
   "language": "python",
   "name": "conda-base-py"
  },
  "language_info": {
   "codemirror_mode": {
    "name": "ipython",
    "version": 3
   },
   "file_extension": ".py",
   "mimetype": "text/x-python",
   "name": "python",
   "nbconvert_exporter": "python",
   "pygments_lexer": "ipython3",
   "version": "3.12.7"
  }
 },
 "nbformat": 4,
 "nbformat_minor": 5
}
