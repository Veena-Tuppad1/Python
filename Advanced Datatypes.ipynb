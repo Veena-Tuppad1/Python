{
 "cells": [
  {
   "cell_type": "code",
   "execution_count": 1,
   "id": "a75ac494-1b35-4c16-acc9-8ca06dd9a91e",
   "metadata": {},
   "outputs": [],
   "source": [
    "#advanced datatypes- list,tuple,dict"
   ]
  },
  {
   "cell_type": "code",
   "execution_count": 3,
   "id": "0e265a82-21b2-4d04-8ed1-49203fecb1d6",
   "metadata": {},
   "outputs": [],
   "source": [
    "a=\"Vinay\"\n",
    "b=165\n",
    "c=78\n",
    "d=\"Bangalore\"\n",
    "e=8660523097"
   ]
  },
  {
   "cell_type": "code",
   "execution_count": 5,
   "id": "23646b5b-defc-4dd0-964d-5f7fc9db30f7",
   "metadata": {},
   "outputs": [
    {
     "data": {
      "text/plain": [
       "str"
      ]
     },
     "execution_count": 5,
     "metadata": {},
     "output_type": "execute_result"
    }
   ],
   "source": [
    "type(a)"
   ]
  },
  {
   "cell_type": "code",
   "execution_count": 7,
   "id": "856dfd2c-acae-4db5-be7d-fd4ab8eb2e92",
   "metadata": {},
   "outputs": [
    {
     "data": {
      "text/plain": [
       "int"
      ]
     },
     "execution_count": 7,
     "metadata": {},
     "output_type": "execute_result"
    }
   ],
   "source": [
    "type(b)"
   ]
  },
  {
   "cell_type": "code",
   "execution_count": 9,
   "id": "51fb9b12-82a9-464a-898a-24f9aa83d521",
   "metadata": {},
   "outputs": [
    {
     "data": {
      "text/plain": [
       "int"
      ]
     },
     "execution_count": 9,
     "metadata": {},
     "output_type": "execute_result"
    }
   ],
   "source": [
    "type(c)"
   ]
  },
  {
   "cell_type": "code",
   "execution_count": 11,
   "id": "3f72686a-a040-4318-9a64-f0124ae46df1",
   "metadata": {},
   "outputs": [
    {
     "name": "stdout",
     "output_type": "stream",
     "text": [
      "Bangalore\n"
     ]
    }
   ],
   "source": [
    "print(d)"
   ]
  },
  {
   "cell_type": "code",
   "execution_count": 15,
   "id": "a8ab5ba3-5c30-49eb-b148-376563c641b0",
   "metadata": {},
   "outputs": [],
   "source": [
    "#65 student\n",
    "#1 student---->5 variables\n",
    "#65 student---->325 variables"
   ]
  },
  {
   "cell_type": "code",
   "execution_count": 21,
   "id": "d740b485-a331-4e6b-8498-7a90c567bdef",
   "metadata": {},
   "outputs": [],
   "source": [
    "v=[\"Vinay\",165,78,\"Bangalore\",8660523097]"
   ]
  },
  {
   "cell_type": "code",
   "execution_count": 23,
   "id": "4219499e-e0f5-44ca-be08-e7c51f1c7b49",
   "metadata": {},
   "outputs": [
    {
     "data": {
      "text/plain": [
       "['Vinay', 165, 78, 'Bangalore', 8660523097]"
      ]
     },
     "execution_count": 23,
     "metadata": {},
     "output_type": "execute_result"
    }
   ],
   "source": [
    "v"
   ]
  },
  {
   "cell_type": "code",
   "execution_count": 25,
   "id": "60579f0c-7f5f-49e3-8dc4-622f17d0307b",
   "metadata": {},
   "outputs": [
    {
     "data": {
      "text/plain": [
       "'Vinay'"
      ]
     },
     "execution_count": 25,
     "metadata": {},
     "output_type": "execute_result"
    }
   ],
   "source": [
    "v[0]"
   ]
  },
  {
   "cell_type": "code",
   "execution_count": 27,
   "id": "6623e5db-c073-4fb4-8812-6614312c254d",
   "metadata": {},
   "outputs": [
    {
     "data": {
      "text/plain": [
       "8660523097"
      ]
     },
     "execution_count": 27,
     "metadata": {},
     "output_type": "execute_result"
    }
   ],
   "source": [
    "v[4]"
   ]
  },
  {
   "cell_type": "code",
   "execution_count": 31,
   "id": "10362860-4733-4d5a-8add-99d7342b9d0a",
   "metadata": {},
   "outputs": [
    {
     "data": {
      "text/plain": [
       "list"
      ]
     },
     "execution_count": 31,
     "metadata": {},
     "output_type": "execute_result"
    }
   ],
   "source": [
    "type(v)"
   ]
  },
  {
   "cell_type": "code",
   "execution_count": 33,
   "id": "255b14db-2e31-4c0a-b3ed-ff4a546d623e",
   "metadata": {},
   "outputs": [],
   "source": [
    "#list\n",
    "#list-->collection of elements\n",
    "#list---->enclosed in []\n",
    "#list---->Mutable(changable,once u created,u can always change it)"
   ]
  },
  {
   "cell_type": "code",
   "execution_count": 35,
   "id": "735e9319-aa87-431a-9221-703a643b6a7f",
   "metadata": {},
   "outputs": [],
   "source": [
    "s=[\"Aparna\",165,75,\"Bangalore\",7898765425]"
   ]
  },
  {
   "cell_type": "code",
   "execution_count": 37,
   "id": "1c05c928-71fe-416b-a829-83cf4e4c9840",
   "metadata": {},
   "outputs": [],
   "source": [
    "a=[\"Ramya\",156,65,\"Hubli\",876543218]"
   ]
  },
  {
   "cell_type": "code",
   "execution_count": 39,
   "id": "7a8b0b4e-e61d-4516-9021-7546d6c4921c",
   "metadata": {},
   "outputs": [
    {
     "data": {
      "text/plain": [
       "['Aparna', 165, 75, 'Bangalore', 7898765425]"
      ]
     },
     "execution_count": 39,
     "metadata": {},
     "output_type": "execute_result"
    }
   ],
   "source": [
    "s"
   ]
  },
  {
   "cell_type": "code",
   "execution_count": 41,
   "id": "3e4477f9-db29-4365-bedf-e671841a947e",
   "metadata": {},
   "outputs": [
    {
     "data": {
      "text/plain": [
       "['Ramya', 156, 65, 'Hubli', 876543218]"
      ]
     },
     "execution_count": 41,
     "metadata": {},
     "output_type": "execute_result"
    }
   ],
   "source": [
    "a"
   ]
  },
  {
   "cell_type": "code",
   "execution_count": 43,
   "id": "dbec5e81-52f6-4fd3-8d48-4b8f5a510d05",
   "metadata": {},
   "outputs": [],
   "source": [
    "#as a burden to a variable ,we are using list"
   ]
  },
  {
   "cell_type": "code",
   "execution_count": 45,
   "id": "1ab0d30f-eebf-4b39-848f-41f343b94c11",
   "metadata": {},
   "outputs": [
    {
     "data": {
      "text/plain": [
       "['Vinay', 165]"
      ]
     },
     "execution_count": 45,
     "metadata": {},
     "output_type": "execute_result"
    }
   ],
   "source": [
    "v[0:2]"
   ]
  },
  {
   "cell_type": "code",
   "execution_count": 47,
   "id": "ea20a10d-9663-40cc-bf33-534ee6e328e5",
   "metadata": {},
   "outputs": [
    {
     "data": {
      "text/plain": [
       "['Vinay', 165, 78, 'Bangalore']"
      ]
     },
     "execution_count": 47,
     "metadata": {},
     "output_type": "execute_result"
    }
   ],
   "source": [
    "v[0:4]"
   ]
  },
  {
   "cell_type": "code",
   "execution_count": 49,
   "id": "9c9b5f8d-c4b9-47d4-a3ac-282d5afe6d66",
   "metadata": {},
   "outputs": [],
   "source": [
    "v[3]=\"Hubli\""
   ]
  },
  {
   "cell_type": "code",
   "execution_count": 51,
   "id": "feb4fd25-10bf-4dec-942c-2dfcb4197f47",
   "metadata": {},
   "outputs": [
    {
     "data": {
      "text/plain": [
       "['Vinay', 165, 78, 'Hubli', 8660523097]"
      ]
     },
     "execution_count": 51,
     "metadata": {},
     "output_type": "execute_result"
    }
   ],
   "source": [
    "v"
   ]
  },
  {
   "cell_type": "code",
   "execution_count": 53,
   "id": "f7435c84-7a80-4cab-b5e9-851085491d7e",
   "metadata": {},
   "outputs": [],
   "source": [
    "v[4]=\"234567890\""
   ]
  },
  {
   "cell_type": "code",
   "execution_count": 55,
   "id": "d2cef1dc-abcd-453d-b02a-fc2da6a14ef0",
   "metadata": {},
   "outputs": [
    {
     "data": {
      "text/plain": [
       "['Vinay', 165, 78, 'Hubli', '234567890']"
      ]
     },
     "execution_count": 55,
     "metadata": {},
     "output_type": "execute_result"
    }
   ],
   "source": [
    "v"
   ]
  },
  {
   "cell_type": "code",
   "execution_count": 57,
   "id": "7c6f3699-39cc-4e05-8175-8a346bb1e046",
   "metadata": {},
   "outputs": [
    {
     "ename": "IndexError",
     "evalue": "list assignment index out of range",
     "output_type": "error",
     "traceback": [
      "\u001b[1;31m---------------------------------------------------------------------------\u001b[0m",
      "\u001b[1;31mIndexError\u001b[0m                                Traceback (most recent call last)",
      "Cell \u001b[1;32mIn[57], line 1\u001b[0m\n\u001b[1;32m----> 1\u001b[0m v[\u001b[38;5;241m5\u001b[39m]\u001b[38;5;241m=\u001b[39m\u001b[38;5;124m\"\u001b[39m\u001b[38;5;124mIT\u001b[39m\u001b[38;5;124m\"\u001b[39m\n",
      "\u001b[1;31mIndexError\u001b[0m: list assignment index out of range"
     ]
    }
   ],
   "source": [
    "v[5]=\"IT\"  #This is not the way to add new elements"
   ]
  },
  {
   "cell_type": "code",
   "execution_count": 61,
   "id": "3b9c9342-9c77-472d-9b4e-ce058459058f",
   "metadata": {},
   "outputs": [],
   "source": [
    "v.append(\"IT\")"
   ]
  },
  {
   "cell_type": "code",
   "execution_count": 63,
   "id": "a6db5f75-084a-46f2-948a-6951e445db3b",
   "metadata": {},
   "outputs": [
    {
     "data": {
      "text/plain": [
       "['Vinay', 165, 78, 'Hubli', '234567890', 'IT']"
      ]
     },
     "execution_count": 63,
     "metadata": {},
     "output_type": "execute_result"
    }
   ],
   "source": [
    "v"
   ]
  },
  {
   "cell_type": "code",
   "execution_count": 65,
   "id": "f2298149-203f-4c62-9dce-1a0ac3c059c0",
   "metadata": {},
   "outputs": [],
   "source": [
    "v.append(\"microsoft.com\")"
   ]
  },
  {
   "cell_type": "code",
   "execution_count": 67,
   "id": "92d4b1ab-2e5d-4fb1-8a40-b64f2a5031fb",
   "metadata": {},
   "outputs": [
    {
     "data": {
      "text/plain": [
       "['Vinay', 165, 78, 'Hubli', '234567890', 'IT', 'microsoft.com']"
      ]
     },
     "execution_count": 67,
     "metadata": {},
     "output_type": "execute_result"
    }
   ],
   "source": [
    "v"
   ]
  },
  {
   "cell_type": "code",
   "execution_count": 69,
   "id": "5299bfaa-a291-4c71-bfee-8cccc52c22e3",
   "metadata": {},
   "outputs": [],
   "source": [
    "v[6]=\"outlook@gmail\""
   ]
  },
  {
   "cell_type": "code",
   "execution_count": 71,
   "id": "2d65d5c4-eb1d-4d9e-86e6-d1805843d8c7",
   "metadata": {},
   "outputs": [
    {
     "data": {
      "text/plain": [
       "['Vinay', 165, 78, 'Hubli', '234567890', 'IT', 'outlook@gmail']"
      ]
     },
     "execution_count": 71,
     "metadata": {},
     "output_type": "execute_result"
    }
   ],
   "source": [
    "v"
   ]
  },
  {
   "cell_type": "code",
   "execution_count": 75,
   "id": "f3c7bc71-d4c9-4eff-a060-eaf858bc674b",
   "metadata": {},
   "outputs": [],
   "source": [
    "v.insert(1,\"WIPRO\")"
   ]
  },
  {
   "cell_type": "code",
   "execution_count": 77,
   "id": "5e6be147-c97f-4bf6-84d2-72b6d3eaf206",
   "metadata": {},
   "outputs": [
    {
     "data": {
      "text/plain": [
       "['Vinay', 'WIPRO', 165, 78, 'Hubli', '234567890', 'IT', 'outlook@gmail']"
      ]
     },
     "execution_count": 77,
     "metadata": {},
     "output_type": "execute_result"
    }
   ],
   "source": [
    "v"
   ]
  },
  {
   "cell_type": "code",
   "execution_count": 79,
   "id": "dacf9294-a89e-410d-a1c2-05e7f4712b4e",
   "metadata": {},
   "outputs": [],
   "source": [
    "lst=[2,4,6,8,10]"
   ]
  },
  {
   "cell_type": "code",
   "execution_count": 81,
   "id": "ab4d3d6b-2bd2-462e-9c2c-723455cdffd1",
   "metadata": {},
   "outputs": [
    {
     "data": {
      "text/plain": [
       "list"
      ]
     },
     "execution_count": 81,
     "metadata": {},
     "output_type": "execute_result"
    }
   ],
   "source": [
    "type(lst)"
   ]
  },
  {
   "cell_type": "code",
   "execution_count": 83,
   "id": "af523e50-0f2f-4b12-902f-3ec3d5f93a4d",
   "metadata": {},
   "outputs": [],
   "source": [
    "lst.append(99)"
   ]
  },
  {
   "cell_type": "code",
   "execution_count": 85,
   "id": "3895a6c5-5cf7-4151-a693-68f81956107d",
   "metadata": {},
   "outputs": [
    {
     "data": {
      "text/plain": [
       "[2, 4, 6, 8, 10, 99]"
      ]
     },
     "execution_count": 85,
     "metadata": {},
     "output_type": "execute_result"
    }
   ],
   "source": [
    "lst"
   ]
  },
  {
   "cell_type": "code",
   "execution_count": 87,
   "id": "234d3648-178c-4304-b0af-8461dfbff18b",
   "metadata": {},
   "outputs": [],
   "source": [
    "#199 i have to insert between 6 and 8"
   ]
  },
  {
   "cell_type": "code",
   "execution_count": 89,
   "id": "5034e1b2-921b-4772-aee8-e77afc78e088",
   "metadata": {},
   "outputs": [],
   "source": [
    "lst.insert(3,199)"
   ]
  },
  {
   "cell_type": "code",
   "execution_count": 91,
   "id": "3acd9c72-e654-4843-9e12-629c6b24ecc3",
   "metadata": {},
   "outputs": [
    {
     "data": {
      "text/plain": [
       "[2, 4, 6, 199, 8, 10, 99]"
      ]
     },
     "execution_count": 91,
     "metadata": {},
     "output_type": "execute_result"
    }
   ],
   "source": [
    "lst\n"
   ]
  },
  {
   "cell_type": "code",
   "execution_count": 93,
   "id": "2c6140cd-5295-4888-8db9-de06b54a2bb1",
   "metadata": {},
   "outputs": [],
   "source": [
    "lst.sort()  #by default the list is oredring in asc order.  how to get descending order?"
   ]
  },
  {
   "cell_type": "code",
   "execution_count": 95,
   "id": "bc4b3425-d9cf-49ab-b647-b4206edb51f8",
   "metadata": {},
   "outputs": [
    {
     "data": {
      "text/plain": [
       "[2, 4, 6, 8, 10, 99, 199]"
      ]
     },
     "execution_count": 95,
     "metadata": {},
     "output_type": "execute_result"
    }
   ],
   "source": [
    "lst"
   ]
  },
  {
   "cell_type": "code",
   "execution_count": 97,
   "id": "11dca6c2-c10d-4c0e-8f53-0e878aa4ded2",
   "metadata": {},
   "outputs": [],
   "source": [
    "lst.sort(reverse=True)"
   ]
  },
  {
   "cell_type": "code",
   "execution_count": 99,
   "id": "9fe15c57-423d-4387-bcfa-9b141998606b",
   "metadata": {},
   "outputs": [
    {
     "data": {
      "text/plain": [
       "[199, 99, 10, 8, 6, 4, 2]"
      ]
     },
     "execution_count": 99,
     "metadata": {},
     "output_type": "execute_result"
    }
   ],
   "source": [
    "lst"
   ]
  },
  {
   "cell_type": "code",
   "execution_count": 101,
   "id": "65aff783-007b-424e-8411-41da2f770463",
   "metadata": {},
   "outputs": [],
   "source": [
    "lst.reverse()"
   ]
  },
  {
   "cell_type": "code",
   "execution_count": 103,
   "id": "bf97d3d5-2d14-4409-95ca-96d5f15f593e",
   "metadata": {},
   "outputs": [
    {
     "data": {
      "text/plain": [
       "[2, 4, 6, 8, 10, 99, 199]"
      ]
     },
     "execution_count": 103,
     "metadata": {},
     "output_type": "execute_result"
    }
   ],
   "source": [
    "lst"
   ]
  },
  {
   "cell_type": "code",
   "execution_count": 105,
   "id": "3e3f3dc4-8632-4dc1-9c10-464ec8213ec5",
   "metadata": {},
   "outputs": [
    {
     "data": {
      "text/plain": [
       "199"
      ]
     },
     "execution_count": 105,
     "metadata": {},
     "output_type": "execute_result"
    }
   ],
   "source": [
    "lst.pop()"
   ]
  },
  {
   "cell_type": "code",
   "execution_count": 107,
   "id": "bed7a6c8-1911-4e05-b107-64258d424072",
   "metadata": {},
   "outputs": [
    {
     "data": {
      "text/plain": [
       "[2, 4, 6, 8, 10, 99]"
      ]
     },
     "execution_count": 107,
     "metadata": {},
     "output_type": "execute_result"
    }
   ],
   "source": [
    "lst"
   ]
  },
  {
   "cell_type": "code",
   "execution_count": 109,
   "id": "5437c7f6-ceb4-414d-a83e-34d48b4e2649",
   "metadata": {},
   "outputs": [
    {
     "data": {
      "text/plain": [
       "99"
      ]
     },
     "execution_count": 109,
     "metadata": {},
     "output_type": "execute_result"
    }
   ],
   "source": [
    "lst.pop()"
   ]
  },
  {
   "cell_type": "code",
   "execution_count": 111,
   "id": "02294509-3e03-4201-b584-010e2f61d2f9",
   "metadata": {},
   "outputs": [
    {
     "data": {
      "text/plain": [
       "[2, 4, 6, 8, 10]"
      ]
     },
     "execution_count": 111,
     "metadata": {},
     "output_type": "execute_result"
    }
   ],
   "source": [
    "lst"
   ]
  },
  {
   "cell_type": "code",
   "execution_count": 113,
   "id": "183a30ea-cc55-4e32-b027-94200e806f36",
   "metadata": {},
   "outputs": [],
   "source": [
    "#append*pop(opposite of pop)--->pop-->will remove last elements"
   ]
  },
  {
   "cell_type": "code",
   "execution_count": 117,
   "id": "d787474a-70c9-4966-967d-d0999b096520",
   "metadata": {},
   "outputs": [],
   "source": [
    "lst.remove(6)"
   ]
  },
  {
   "cell_type": "code",
   "execution_count": 119,
   "id": "c3b858c3-804b-4411-a06c-871be4080f27",
   "metadata": {},
   "outputs": [
    {
     "data": {
      "text/plain": [
       "[2, 4, 8, 10]"
      ]
     },
     "execution_count": 119,
     "metadata": {},
     "output_type": "execute_result"
    }
   ],
   "source": [
    "lst"
   ]
  },
  {
   "cell_type": "code",
   "execution_count": 121,
   "id": "ce63513a-e153-45ca-a531-30a558da3cfe",
   "metadata": {},
   "outputs": [],
   "source": [
    "lst1=[1,2,3,4,5,6,2,3,3,2,7,2]"
   ]
  },
  {
   "cell_type": "code",
   "execution_count": 125,
   "id": "d6cca8e7-3eab-4f20-8874-efa3a44b21a2",
   "metadata": {},
   "outputs": [],
   "source": [
    "lst1.remove(2)"
   ]
  },
  {
   "cell_type": "code",
   "execution_count": 127,
   "id": "170f5250-d238-4ef2-82f7-b0ce62b3d179",
   "metadata": {},
   "outputs": [
    {
     "data": {
      "text/plain": [
       "[1, 3, 4, 5, 2, 3, 3, 2, 7, 2]"
      ]
     },
     "execution_count": 127,
     "metadata": {},
     "output_type": "execute_result"
    }
   ],
   "source": [
    "lst1"
   ]
  },
  {
   "cell_type": "code",
   "execution_count": 129,
   "id": "4e8e765d-b255-4616-860e-e355e5a04241",
   "metadata": {},
   "outputs": [],
   "source": [
    "lst2=[1,3,5,6,7,8,6,5]"
   ]
  },
  {
   "cell_type": "code",
   "execution_count": 131,
   "id": "bc912018-3700-4781-9955-227d277edd9a",
   "metadata": {},
   "outputs": [],
   "source": [
    "lst2.remove(6)"
   ]
  },
  {
   "cell_type": "code",
   "execution_count": 133,
   "id": "96fca0b7-5ebc-4433-b545-6b7aa4557655",
   "metadata": {},
   "outputs": [
    {
     "data": {
      "text/plain": [
       "[1, 3, 5, 7, 8, 6, 5]"
      ]
     },
     "execution_count": 133,
     "metadata": {},
     "output_type": "execute_result"
    }
   ],
   "source": [
    "lst2"
   ]
  },
  {
   "cell_type": "code",
   "execution_count": 135,
   "id": "9e5eda44-8835-49f8-9fcc-b1bec3e1ae09",
   "metadata": {},
   "outputs": [],
   "source": [
    "lst2.remove(5)"
   ]
  },
  {
   "cell_type": "code",
   "execution_count": 137,
   "id": "c2ee635b-4642-4666-b4bd-1d7802ef0b70",
   "metadata": {},
   "outputs": [
    {
     "data": {
      "text/plain": [
       "[1, 3, 7, 8, 6, 5]"
      ]
     },
     "execution_count": 137,
     "metadata": {},
     "output_type": "execute_result"
    }
   ],
   "source": [
    "lst2"
   ]
  },
  {
   "cell_type": "code",
   "execution_count": 139,
   "id": "9b4f48a7-8441-482f-9a8f-463487a6877c",
   "metadata": {},
   "outputs": [],
   "source": [
    "lst2.clear()"
   ]
  },
  {
   "cell_type": "code",
   "execution_count": 141,
   "id": "cdf01b27-2097-4552-92b0-8023e3a25963",
   "metadata": {},
   "outputs": [
    {
     "data": {
      "text/plain": [
       "[]"
      ]
     },
     "execution_count": 141,
     "metadata": {},
     "output_type": "execute_result"
    }
   ],
   "source": [
    "lst2"
   ]
  },
  {
   "cell_type": "code",
   "execution_count": 143,
   "id": "e3445b73-c90a-4ebf-921b-f2307f5b2af6",
   "metadata": {},
   "outputs": [],
   "source": [
    "lst3=[1,2,3,4,5,6,2,3,3,2,7,2]"
   ]
  },
  {
   "cell_type": "code",
   "execution_count": 145,
   "id": "4cac972d-d80c-4bc9-be82-72bb9faf7049",
   "metadata": {},
   "outputs": [
    {
     "data": {
      "text/plain": [
       "[1, 2, 3, 4, 5, 6, 2, 3, 3, 2, 7, 2]"
      ]
     },
     "execution_count": 145,
     "metadata": {},
     "output_type": "execute_result"
    }
   ],
   "source": [
    "lst3"
   ]
  },
  {
   "cell_type": "code",
   "execution_count": 147,
   "id": "38faa210-a8a8-42a3-938b-f89a6293aeb6",
   "metadata": {},
   "outputs": [
    {
     "data": {
      "text/plain": [
       "4"
      ]
     },
     "execution_count": 147,
     "metadata": {},
     "output_type": "execute_result"
    }
   ],
   "source": [
    "lst3.count(2)"
   ]
  },
  {
   "cell_type": "code",
   "execution_count": 149,
   "id": "a81ad7ca-fb25-45dc-a594-48a312195886",
   "metadata": {},
   "outputs": [
    {
     "data": {
      "text/plain": [
       "1"
      ]
     },
     "execution_count": 149,
     "metadata": {},
     "output_type": "execute_result"
    }
   ],
   "source": [
    "lst3.count(7)"
   ]
  },
  {
   "cell_type": "code",
   "execution_count": 151,
   "id": "c2c68cf8-96c4-4b9f-a62a-f05ce0b73250",
   "metadata": {},
   "outputs": [],
   "source": [
    "lst4=lst3.copy()"
   ]
  },
  {
   "cell_type": "code",
   "execution_count": 153,
   "id": "85a8e9fa-88f2-47b9-8a66-242ef2623d58",
   "metadata": {},
   "outputs": [
    {
     "data": {
      "text/plain": [
       "[1, 2, 3, 4, 5, 6, 2, 3, 3, 2, 7, 2]"
      ]
     },
     "execution_count": 153,
     "metadata": {},
     "output_type": "execute_result"
    }
   ],
   "source": [
    "lst4"
   ]
  },
  {
   "cell_type": "code",
   "execution_count": 159,
   "id": "f7ef64cf-c1f6-4f9d-bc42-5510ab835a02",
   "metadata": {},
   "outputs": [],
   "source": [
    "lst5=lst3[0:5]"
   ]
  },
  {
   "cell_type": "code",
   "execution_count": 161,
   "id": "2d6291b7-b7cd-4d2a-8b66-1a590a14f018",
   "metadata": {},
   "outputs": [
    {
     "data": {
      "text/plain": [
       "[1, 2, 3, 4, 5]"
      ]
     },
     "execution_count": 161,
     "metadata": {},
     "output_type": "execute_result"
    }
   ],
   "source": [
    "lst5"
   ]
  },
  {
   "cell_type": "code",
   "execution_count": null,
   "id": "297d1d73-b184-4ab9-b12f-49769c2d9cd3",
   "metadata": {},
   "outputs": [],
   "source": []
  }
 ],
 "metadata": {
  "kernelspec": {
   "display_name": "Python [conda env:base] *",
   "language": "python",
   "name": "conda-base-py"
  },
  "language_info": {
   "codemirror_mode": {
    "name": "ipython",
    "version": 3
   },
   "file_extension": ".py",
   "mimetype": "text/x-python",
   "name": "python",
   "nbconvert_exporter": "python",
   "pygments_lexer": "ipython3",
   "version": "3.12.7"
  }
 },
 "nbformat": 4,
 "nbformat_minor": 5
}
