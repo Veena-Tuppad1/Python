{
 "cells": [
  {
   "cell_type": "code",
   "execution_count": 3,
   "id": "3b8df0e4-713d-4029-8202-417c34ebdbdd",
   "metadata": {},
   "outputs": [],
   "source": [
    "def add(a,b):\n",
    "    c=a+b\n",
    "    print(\"The addition of 2 numbers : \", c)\n",
    "\n",
    "def sub(a,b):\n",
    "    c=a-b\n",
    "    print(\"The substraction of 2 numbers : \",c)\n",
    "\n",
    "def mul(a,b):\n",
    "    c=a*b\n",
    "    print(\"The multiplication of 2 numbers : \",c)\n",
    "\n",
    "def div(a,b):\n",
    "    c=a/b\n",
    "    print(\"The division of 2 numbers : \",c)\n",
    "    "
   ]
  },
  {
   "cell_type": "code",
   "execution_count": 11,
   "id": "017eb90e-77b6-450b-b8be-f6de61b92851",
   "metadata": {},
   "outputs": [
    {
     "name": "stdout",
     "output_type": "stream",
     "text": [
      "Enter the 1st Element: \n"
     ]
    },
    {
     "name": "stdin",
     "output_type": "stream",
     "text": [
      " 10\n"
     ]
    },
    {
     "name": "stdout",
     "output_type": "stream",
     "text": [
      "Enter the 2nd Element: \n"
     ]
    },
    {
     "name": "stdin",
     "output_type": "stream",
     "text": [
      " 100\n"
     ]
    },
    {
     "name": "stdout",
     "output_type": "stream",
     "text": [
      "Enter the operation : add/sub/mul/div: \n"
     ]
    },
    {
     "name": "stdin",
     "output_type": "stream",
     "text": [
      " add\n"
     ]
    },
    {
     "name": "stdout",
     "output_type": "stream",
     "text": [
      "The addition of 2 numbers :  110\n"
     ]
    }
   ],
   "source": [
    "print(\"Enter the 1st Element: \")\n",
    "a=int(input())\n",
    "print(\"Enter the 2nd Element: \")\n",
    "b=int(input())\n",
    "print(\"Enter the operation : add/sub/mul/div: \")\n",
    "operaton=input()\n",
    "\n",
    "\n",
    "if operaton==\"add\":\n",
    "    add(a,b)\n",
    "elif operaton==\"sub\":\n",
    "    sub(a,b)\n",
    "elif operaton==\"mul\":\n",
    "    mul(a,b)\n",
    "else:\n",
    "    div(a,b)"
   ]
  },
  {
   "cell_type": "code",
   "execution_count": null,
   "id": "6ec437f1-477e-4e05-8d69-52308edffd22",
   "metadata": {},
   "outputs": [],
   "source": []
  }
 ],
 "metadata": {
  "kernelspec": {
   "display_name": "Python [conda env:base] *",
   "language": "python",
   "name": "conda-base-py"
  },
  "language_info": {
   "codemirror_mode": {
    "name": "ipython",
    "version": 3
   },
   "file_extension": ".py",
   "mimetype": "text/x-python",
   "name": "python",
   "nbconvert_exporter": "python",
   "pygments_lexer": "ipython3",
   "version": "3.12.7"
  }
 },
 "nbformat": 4,
 "nbformat_minor": 5
}
