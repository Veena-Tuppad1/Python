{
 "cells": [
  {
   "cell_type": "code",
   "execution_count": 7,
   "id": "3fb9a9f6-990b-4934-a642-c16c21f1d12e",
   "metadata": {},
   "outputs": [],
   "source": [
    "#tuple\n",
    "#similar to list,this is also collection of elemets\n",
    "#enclosed in()\n",
    "#tuple is immutable(once it is created u cannot change it directly)"
   ]
  },
  {
   "cell_type": "code",
   "execution_count": 14,
   "id": "ee914343-0453-4d75-9afd-0d65b323e2b3",
   "metadata": {},
   "outputs": [],
   "source": [
    "veena_info=(\"veena\",8660523097,\"IT\")"
   ]
  },
  {
   "cell_type": "code",
   "execution_count": 16,
   "id": "82377c61-dd87-4941-87f0-1befc736f598",
   "metadata": {},
   "outputs": [
    {
     "data": {
      "text/plain": [
       "('veena', 8660523097, 'IT')"
      ]
     },
     "execution_count": 16,
     "metadata": {},
     "output_type": "execute_result"
    }
   ],
   "source": [
    "veena_info"
   ]
  },
  {
   "cell_type": "code",
   "execution_count": 20,
   "id": "87b56c7a-edd7-4049-b0b1-c2dbeba851c4",
   "metadata": {},
   "outputs": [
    {
     "data": {
      "text/plain": [
       "tuple"
      ]
     },
     "execution_count": 20,
     "metadata": {},
     "output_type": "execute_result"
    }
   ],
   "source": [
    "type(veena_info)"
   ]
  },
  {
   "cell_type": "code",
   "execution_count": 26,
   "id": "713e246a-da42-4859-9333-84a8a76d0a60",
   "metadata": {},
   "outputs": [
    {
     "data": {
      "text/plain": [
       "'IT'"
      ]
     },
     "execution_count": 26,
     "metadata": {},
     "output_type": "execute_result"
    }
   ],
   "source": [
    "veena_info[2]"
   ]
  },
  {
   "cell_type": "code",
   "execution_count": 28,
   "id": "0934f714-9176-409a-acd2-59266c158d4f",
   "metadata": {},
   "outputs": [
    {
     "ename": "TypeError",
     "evalue": "'tuple' object does not support item assignment",
     "output_type": "error",
     "traceback": [
      "\u001b[1;31m---------------------------------------------------------------------------\u001b[0m",
      "\u001b[1;31mTypeError\u001b[0m                                 Traceback (most recent call last)",
      "Cell \u001b[1;32mIn[28], line 1\u001b[0m\n\u001b[1;32m----> 1\u001b[0m veena_info[\u001b[38;5;241m2\u001b[39m]\u001b[38;5;241m=\u001b[39m\u001b[38;5;124m\"\u001b[39m\u001b[38;5;124mstudent\u001b[39m\u001b[38;5;124m\"\u001b[39m\n",
      "\u001b[1;31mTypeError\u001b[0m: 'tuple' object does not support item assignment"
     ]
    }
   ],
   "source": [
    "veena_info[2]=\"student\""
   ]
  },
  {
   "cell_type": "code",
   "execution_count": 30,
   "id": "0d58b62c-fc05-4c06-b8da-b1104391a03a",
   "metadata": {},
   "outputs": [
    {
     "data": {
      "text/plain": [
       "8660523097"
      ]
     },
     "execution_count": 30,
     "metadata": {},
     "output_type": "execute_result"
    }
   ],
   "source": [
    "veena_info[1]"
   ]
  },
  {
   "cell_type": "code",
   "execution_count": 32,
   "id": "01980e72-af08-4a53-91e3-7b93d3c1651e",
   "metadata": {},
   "outputs": [],
   "source": [
    "vidya_info=[\"Vidya\",8999999999,\"student\"]"
   ]
  },
  {
   "cell_type": "code",
   "execution_count": 34,
   "id": "42037be9-11ff-4826-aae8-b8ae405ca268",
   "metadata": {},
   "outputs": [
    {
     "data": {
      "text/plain": [
       "['Vidya', 8999999999, 'student']"
      ]
     },
     "execution_count": 34,
     "metadata": {},
     "output_type": "execute_result"
    }
   ],
   "source": [
    "vidya_info"
   ]
  },
  {
   "cell_type": "code",
   "execution_count": 36,
   "id": "c4b8e4d9-4fdc-4a87-9264-9e7c3770201e",
   "metadata": {},
   "outputs": [
    {
     "data": {
      "text/plain": [
       "list"
      ]
     },
     "execution_count": 36,
     "metadata": {},
     "output_type": "execute_result"
    }
   ],
   "source": [
    "type(vidya_info)"
   ]
  },
  {
   "cell_type": "code",
   "execution_count": 40,
   "id": "26d77ce4-42f9-4ecc-b2e2-6c83815e7f6f",
   "metadata": {},
   "outputs": [
    {
     "data": {
      "text/plain": [
       "1"
      ]
     },
     "execution_count": 40,
     "metadata": {},
     "output_type": "execute_result"
    }
   ],
   "source": [
    "veena_info.count('IT')"
   ]
  },
  {
   "cell_type": "code",
   "execution_count": 46,
   "id": "7238bc06-958c-41dc-a3b1-e6f8ef2c9528",
   "metadata": {},
   "outputs": [
    {
     "data": {
      "text/plain": [
       "2"
      ]
     },
     "execution_count": 46,
     "metadata": {},
     "output_type": "execute_result"
    }
   ],
   "source": [
    "veena_info.index(\"IT\")"
   ]
  },
  {
   "cell_type": "code",
   "execution_count": 48,
   "id": "c75dc5bc-5883-481e-919b-a8396beddf10",
   "metadata": {},
   "outputs": [],
   "source": [
    "a=list(veena_info)"
   ]
  },
  {
   "cell_type": "code",
   "execution_count": 50,
   "id": "0bc74a87-4fd2-404d-afc4-bedd7a4d6efe",
   "metadata": {},
   "outputs": [
    {
     "data": {
      "text/plain": [
       "list"
      ]
     },
     "execution_count": 50,
     "metadata": {},
     "output_type": "execute_result"
    }
   ],
   "source": [
    "type(a)"
   ]
  },
  {
   "cell_type": "code",
   "execution_count": 52,
   "id": "5c2cd8f7-b2f4-49a6-93f4-af9d2ac3b52c",
   "metadata": {},
   "outputs": [
    {
     "data": {
      "text/plain": [
       "['veena', 8660523097, 'IT']"
      ]
     },
     "execution_count": 52,
     "metadata": {},
     "output_type": "execute_result"
    }
   ],
   "source": [
    "a"
   ]
  },
  {
   "cell_type": "code",
   "execution_count": 54,
   "id": "f285d8df-3b53-494f-b6ca-704e94e5f863",
   "metadata": {},
   "outputs": [],
   "source": [
    "a[2]=\"student\""
   ]
  },
  {
   "cell_type": "code",
   "execution_count": 56,
   "id": "a5c5c111-05a2-4874-a1bb-7924cc7cd035",
   "metadata": {},
   "outputs": [
    {
     "data": {
      "text/plain": [
       "['veena', 8660523097, 'student']"
      ]
     },
     "execution_count": 56,
     "metadata": {},
     "output_type": "execute_result"
    }
   ],
   "source": [
    "a"
   ]
  },
  {
   "cell_type": "code",
   "execution_count": 58,
   "id": "9bfda570-36c8-4606-a137-dbaea9e70f53",
   "metadata": {},
   "outputs": [],
   "source": [
    "veena_info=tuple(a)"
   ]
  },
  {
   "cell_type": "code",
   "execution_count": 60,
   "id": "e0ceb36d-6ff8-4cba-b85e-ad528df5cc4f",
   "metadata": {},
   "outputs": [
    {
     "data": {
      "text/plain": [
       "('veena', 8660523097, 'student')"
      ]
     },
     "execution_count": 60,
     "metadata": {},
     "output_type": "execute_result"
    }
   ],
   "source": [
    "veena_info"
   ]
  },
  {
   "cell_type": "code",
   "execution_count": 62,
   "id": "27f0c55c-e35a-4d77-baea-77a569eb9d9a",
   "metadata": {},
   "outputs": [],
   "source": [
    "#i have a problem with list and tuple"
   ]
  },
  {
   "cell_type": "code",
   "execution_count": 66,
   "id": "d384d902-59e8-46ec-b49a-c4c6b670e4eb",
   "metadata": {},
   "outputs": [],
   "source": [
    "lst=[\"BEC\",\"Bagalkot\",\"Veena\",\"Aparna\",2017,14483,7540]"
   ]
  },
  {
   "cell_type": "code",
   "execution_count": 68,
   "id": "03c0a93d-a7af-4775-8f8f-f7151a095f35",
   "metadata": {},
   "outputs": [
    {
     "data": {
      "text/plain": [
       "['BEC', 'Bagalkot', 'Veena', 'Aparna', 2017, 14483, 7540]"
      ]
     },
     "execution_count": 68,
     "metadata": {},
     "output_type": "execute_result"
    }
   ],
   "source": [
    "lst"
   ]
  },
  {
   "cell_type": "code",
   "execution_count": 70,
   "id": "e2b51359-245b-4516-bb81-e89407aa992f",
   "metadata": {},
   "outputs": [],
   "source": [
    "#i dont know what is 2017 and 14k\n",
    "#difficult to access with index"
   ]
  },
  {
   "cell_type": "code",
   "execution_count": 72,
   "id": "6b22037c-bfc7-40da-9571-85cc1c34482b",
   "metadata": {},
   "outputs": [],
   "source": [
    "College=\"BEC\"\n",
    "location=\"Bagalkot\"\n",
    "Junior=\"Veena\"\n",
    "Senior=\"Aparna\"\n",
    "founded=2017\n"
   ]
  },
  {
   "cell_type": "code",
   "execution_count": 74,
   "id": "bb3bee6b-d0a1-411b-8d23-928017465d7b",
   "metadata": {},
   "outputs": [],
   "source": [
    "#Dictionary--->dict\n",
    "#dict is for storing in the from of key-value pair\n",
    "#dict is enclosed {}\n",
    "#dict values are mutable(can ba changed)"
   ]
  },
  {
   "cell_type": "code",
   "execution_count": 76,
   "id": "c0fd7cf7-16a3-46a2-8f76-2ca063ed223f",
   "metadata": {},
   "outputs": [],
   "source": [
    "d={\n",
    "    \"College\":\"BEC\",  #\"key\":\"value\"\n",
    "\"location\":\"Bagalkot\",\n",
    "\"Junior\":\"Veena\",\n",
    "\"Senior\":\"Aparna\",\n",
    "\"founded\":2017\n",
    "}"
   ]
  },
  {
   "cell_type": "code",
   "execution_count": 78,
   "id": "fc540ed8-e966-4721-95fb-1fdf3085aca0",
   "metadata": {},
   "outputs": [
    {
     "data": {
      "text/plain": [
       "{'College': 'BEC',\n",
       " 'location': 'Bagalkot',\n",
       " 'Junior': 'Veena',\n",
       " 'Senior': 'Aparna',\n",
       " 'founded': 2017}"
      ]
     },
     "execution_count": 78,
     "metadata": {},
     "output_type": "execute_result"
    }
   ],
   "source": [
    "d\n"
   ]
  },
  {
   "cell_type": "code",
   "execution_count": 80,
   "id": "f07236c2-4af5-4ca7-824f-febddf02eb9b",
   "metadata": {},
   "outputs": [
    {
     "data": {
      "text/plain": [
       "dict"
      ]
     },
     "execution_count": 80,
     "metadata": {},
     "output_type": "execute_result"
    }
   ],
   "source": [
    "type(d)"
   ]
  },
  {
   "cell_type": "code",
   "execution_count": 86,
   "id": "1715700e-3b25-4406-887f-d1c6efd72eb8",
   "metadata": {},
   "outputs": [],
   "source": [
    "d1={\n",
    "    \"car\":\"creta\",\n",
    "    \"model\":\"hyundai\",\n",
    "    \"year\":2023\n",
    "}"
   ]
  },
  {
   "cell_type": "code",
   "execution_count": 88,
   "id": "3a085c56-c101-4408-b88e-febc6527f24a",
   "metadata": {},
   "outputs": [
    {
     "data": {
      "text/plain": [
       "dict"
      ]
     },
     "execution_count": 88,
     "metadata": {},
     "output_type": "execute_result"
    }
   ],
   "source": [
    "type(d1)"
   ]
  },
  {
   "cell_type": "code",
   "execution_count": 92,
   "id": "48bbbc98-cfed-4ccc-aee1-13f6860f9bbc",
   "metadata": {},
   "outputs": [
    {
     "data": {
      "text/plain": [
       "'creta'"
      ]
     },
     "execution_count": 92,
     "metadata": {},
     "output_type": "execute_result"
    }
   ],
   "source": [
    "d1[\"car\"]"
   ]
  },
  {
   "cell_type": "code",
   "execution_count": 94,
   "id": "7cf8232d-1807-418a-94c1-f60d1734c5f9",
   "metadata": {},
   "outputs": [
    {
     "data": {
      "text/plain": [
       "2023"
      ]
     },
     "execution_count": 94,
     "metadata": {},
     "output_type": "execute_result"
    }
   ],
   "source": [
    "d1[\"year\"]  #via indexing"
   ]
  },
  {
   "cell_type": "code",
   "execution_count": 100,
   "id": "9285ab23-214a-412a-9700-f76976ce8b33",
   "metadata": {},
   "outputs": [
    {
     "data": {
      "text/plain": [
       "'creta'"
      ]
     },
     "execution_count": 100,
     "metadata": {},
     "output_type": "execute_result"
    }
   ],
   "source": [
    "d1.get(\"car\")  #via get function"
   ]
  },
  {
   "cell_type": "code",
   "execution_count": 102,
   "id": "c268b49b-b45d-4db7-a98d-3a142b20254d",
   "metadata": {},
   "outputs": [
    {
     "data": {
      "text/plain": [
       "dict_keys(['car', 'model', 'year'])"
      ]
     },
     "execution_count": 102,
     "metadata": {},
     "output_type": "execute_result"
    }
   ],
   "source": [
    "d1.keys()"
   ]
  },
  {
   "cell_type": "code",
   "execution_count": 104,
   "id": "504b018c-7765-497c-8b1e-eb821b10e3ae",
   "metadata": {},
   "outputs": [],
   "source": [
    "d1[\"car\"]=\"create facelift model\""
   ]
  },
  {
   "cell_type": "code",
   "execution_count": 106,
   "id": "1f2e75cd-b5bc-489d-aa32-fd4af5c9a3cc",
   "metadata": {},
   "outputs": [],
   "source": [
    "d1[\"year\"]=2024"
   ]
  },
  {
   "cell_type": "code",
   "execution_count": 108,
   "id": "086bdafb-382f-4ec1-92fd-3576ae50b245",
   "metadata": {},
   "outputs": [
    {
     "data": {
      "text/plain": [
       "{'car': 'create facelift model', 'model': 'hyundai', 'year': 2024}"
      ]
     },
     "execution_count": 108,
     "metadata": {},
     "output_type": "execute_result"
    }
   ],
   "source": [
    "d1"
   ]
  },
  {
   "cell_type": "code",
   "execution_count": 110,
   "id": "2baf7e2c-70c8-45f3-85d0-534a4b0047ad",
   "metadata": {},
   "outputs": [],
   "source": [
    "d1[\"color\"]=\"black\"  #via indexing"
   ]
  },
  {
   "cell_type": "code",
   "execution_count": 112,
   "id": "c5d50690-ddf2-4edd-8ff7-e9ba349a766c",
   "metadata": {},
   "outputs": [
    {
     "data": {
      "text/plain": [
       "{'car': 'create facelift model',\n",
       " 'model': 'hyundai',\n",
       " 'year': 2024,\n",
       " 'color': 'black'}"
      ]
     },
     "execution_count": 112,
     "metadata": {},
     "output_type": "execute_result"
    }
   ],
   "source": [
    "d1"
   ]
  },
  {
   "cell_type": "code",
   "execution_count": 114,
   "id": "af24ef60-6b12-47c4-beb8-e81e06dff7bd",
   "metadata": {},
   "outputs": [],
   "source": [
    "d1.update({\"airbags\":\"6\"})  #via update function"
   ]
  },
  {
   "cell_type": "code",
   "execution_count": 116,
   "id": "3826564a-8407-4c37-8ea5-46ad83285fdc",
   "metadata": {},
   "outputs": [
    {
     "data": {
      "text/plain": [
       "{'car': 'create facelift model',\n",
       " 'model': 'hyundai',\n",
       " 'year': 2024,\n",
       " 'color': 'black',\n",
       " 'airbags': '6'}"
      ]
     },
     "execution_count": 116,
     "metadata": {},
     "output_type": "execute_result"
    }
   ],
   "source": [
    "d1"
   ]
  },
  {
   "cell_type": "code",
   "execution_count": 118,
   "id": "4b06a757-f4f5-498f-b2b4-5260d1d5e8e2",
   "metadata": {},
   "outputs": [
    {
     "data": {
      "text/plain": [
       "'black'"
      ]
     },
     "execution_count": 118,
     "metadata": {},
     "output_type": "execute_result"
    }
   ],
   "source": [
    "d1.pop(\"color\")"
   ]
  },
  {
   "cell_type": "code",
   "execution_count": 120,
   "id": "74340498-0018-4c7e-9d04-06f20980022b",
   "metadata": {},
   "outputs": [
    {
     "data": {
      "text/plain": [
       "{'car': 'create facelift model',\n",
       " 'model': 'hyundai',\n",
       " 'year': 2024,\n",
       " 'airbags': '6'}"
      ]
     },
     "execution_count": 120,
     "metadata": {},
     "output_type": "execute_result"
    }
   ],
   "source": [
    "d1"
   ]
  },
  {
   "cell_type": "code",
   "execution_count": null,
   "id": "f69daf20-e676-40ab-8dde-694c009ed69e",
   "metadata": {},
   "outputs": [],
   "source": [
    "#todays question\n",
    "#is it possible to update key names?\n",
    "#can i able add key/value in between elements?"
   ]
  }
 ],
 "metadata": {
  "kernelspec": {
   "display_name": "Python [conda env:base] *",
   "language": "python",
   "name": "conda-base-py"
  },
  "language_info": {
   "codemirror_mode": {
    "name": "ipython",
    "version": 3
   },
   "file_extension": ".py",
   "mimetype": "text/x-python",
   "name": "python",
   "nbconvert_exporter": "python",
   "pygments_lexer": "ipython3",
   "version": "3.12.7"
  }
 },
 "nbformat": 4,
 "nbformat_minor": 5
}
