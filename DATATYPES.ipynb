{
 "cells": [
  {
   "cell_type": "code",
   "execution_count": null,
   "id": "2697188e-255b-47cf-963d-b5775d2e8c0f",
   "metadata": {},
   "outputs": [],
   "source": [
    "#DATATYPES\n",
    "\n",
    "#1. str\n",
    "#2. int\n",
    "#3. float\n",
    "#4. bool\n",
    "\n",
    "#advanced data types:list,tuple,dict"
   ]
  },
  {
   "cell_type": "code",
   "execution_count": 13,
   "id": "622746a7-545d-47c1-8897-af4aef1f768c",
   "metadata": {},
   "outputs": [],
   "source": [
    "a=\"Veena\"\n",
    "b=5\n",
    "c=3.142\n",
    "d=True"
   ]
  },
  {
   "cell_type": "code",
   "execution_count": 15,
   "id": "fa84084b-6d85-4ecb-9403-7ad92df09e45",
   "metadata": {},
   "outputs": [
    {
     "data": {
      "text/plain": [
       "str"
      ]
     },
     "execution_count": 15,
     "metadata": {},
     "output_type": "execute_result"
    }
   ],
   "source": [
    "type(a)"
   ]
  },
  {
   "cell_type": "code",
   "execution_count": 17,
   "id": "f5da8bb4-3aec-47c5-a98f-10166885565b",
   "metadata": {},
   "outputs": [
    {
     "data": {
      "text/plain": [
       "int"
      ]
     },
     "execution_count": 17,
     "metadata": {},
     "output_type": "execute_result"
    }
   ],
   "source": [
    "type(b)"
   ]
  },
  {
   "cell_type": "code",
   "execution_count": 19,
   "id": "d8224b48-be40-408e-9cfb-b8904c3df605",
   "metadata": {},
   "outputs": [
    {
     "data": {
      "text/plain": [
       "float"
      ]
     },
     "execution_count": 19,
     "metadata": {},
     "output_type": "execute_result"
    }
   ],
   "source": [
    "type(c)"
   ]
  },
  {
   "cell_type": "code",
   "execution_count": 21,
   "id": "96c02e68-1d41-492a-9e0a-9ed0f9e19e75",
   "metadata": {},
   "outputs": [
    {
     "data": {
      "text/plain": [
       "bool"
      ]
     },
     "execution_count": 21,
     "metadata": {},
     "output_type": "execute_result"
    }
   ],
   "source": [
    "type(d)"
   ]
  },
  {
   "cell_type": "code",
   "execution_count": 23,
   "id": "bc99a527-3e6c-40ad-850e-7aa651fca7d7",
   "metadata": {},
   "outputs": [],
   "source": [
    "a=\"BEC BAGALKOT\""
   ]
  },
  {
   "cell_type": "code",
   "execution_count": 27,
   "id": "f6298e75-8367-4848-8ad0-5572bb681c59",
   "metadata": {},
   "outputs": [],
   "source": [
    "#IF U WANT ACCESS ANY CHARCTER,U SHOULD ALWAYS ACCESS WITH [], indexing\n",
    "#[FROM:TO:STEP] ***STEP IS OPTIONAL(DEFAULT STEP=1)\n",
    "#[:]---->Entire String\n",
    "#[FROM:]--->Characters with start from position and will go till the end"
   ]
  },
  {
   "cell_type": "code",
   "execution_count": 29,
   "id": "f9dad3f6-70dc-4bbd-becc-b4f66bd6b78f",
   "metadata": {},
   "outputs": [
    {
     "data": {
      "text/plain": [
       "' '"
      ]
     },
     "execution_count": 29,
     "metadata": {},
     "output_type": "execute_result"
    }
   ],
   "source": [
    "a[3]"
   ]
  },
  {
   "cell_type": "code",
   "execution_count": 31,
   "id": "409c8ca0-c43a-4587-9389-89473d9aac17",
   "metadata": {},
   "outputs": [
    {
     "data": {
      "text/plain": [
       "'B'"
      ]
     },
     "execution_count": 31,
     "metadata": {},
     "output_type": "execute_result"
    }
   ],
   "source": [
    "a[4]"
   ]
  },
  {
   "cell_type": "code",
   "execution_count": 33,
   "id": "f388384b-515e-4968-a462-2d7818c53054",
   "metadata": {},
   "outputs": [
    {
     "data": {
      "text/plain": [
       "'B'"
      ]
     },
     "execution_count": 33,
     "metadata": {},
     "output_type": "execute_result"
    }
   ],
   "source": [
    "a[0]"
   ]
  },
  {
   "cell_type": "code",
   "execution_count": null,
   "id": "96676f8f-b9e9-4e48-ad6c-5af4bdf7ec34",
   "metadata": {},
   "outputs": [],
   "source": [
    "#string[from:to]"
   ]
  },
  {
   "cell_type": "code",
   "execution_count": 35,
   "id": "8f9140e8-a6a6-4dca-8228-56d2c9922e22",
   "metadata": {},
   "outputs": [
    {
     "data": {
      "text/plain": [
       "'BAGA'"
      ]
     },
     "execution_count": 35,
     "metadata": {},
     "output_type": "execute_result"
    }
   ],
   "source": [
    "a[4:8]  # to will be excluded (to+1)"
   ]
  },
  {
   "cell_type": "code",
   "execution_count": 37,
   "id": "314dfc2d-a852-47b3-baa7-845ab036ea4a",
   "metadata": {},
   "outputs": [],
   "source": [
    "#string[start_pos:end_pos :optional(step)] #start_pos will be considered,end_pos will not consider"
   ]
  },
  {
   "cell_type": "code",
   "execution_count": 41,
   "id": "83d61499-a257-41f5-bd1d-736c4b35ce7a",
   "metadata": {},
   "outputs": [],
   "source": [
    "c=\"DATAVIZON\"    #VIZON"
   ]
  },
  {
   "cell_type": "code",
   "execution_count": 46,
   "id": "9408acaa-a01e-4ec6-8527-97491c69cb51",
   "metadata": {},
   "outputs": [
    {
     "data": {
      "text/plain": [
       "'VIZON'"
      ]
     },
     "execution_count": 46,
     "metadata": {},
     "output_type": "execute_result"
    }
   ],
   "source": [
    "c[4:9]"
   ]
  },
  {
   "cell_type": "code",
   "execution_count": 48,
   "id": "08b5f9e7-704c-483a-ae01-455e0a8544fd",
   "metadata": {},
   "outputs": [
    {
     "data": {
      "text/plain": [
       "'DATAVIZON'"
      ]
     },
     "execution_count": 48,
     "metadata": {},
     "output_type": "execute_result"
    }
   ],
   "source": [
    "c[0:9]"
   ]
  },
  {
   "cell_type": "code",
   "execution_count": 50,
   "id": "438faee3-b075-4b9c-ae4e-4e5e0c7282be",
   "metadata": {},
   "outputs": [
    {
     "data": {
      "text/plain": [
       "'DTVZN'"
      ]
     },
     "execution_count": 50,
     "metadata": {},
     "output_type": "execute_result"
    }
   ],
   "source": [
    "c[0:9:2]"
   ]
  },
  {
   "cell_type": "code",
   "execution_count": 52,
   "id": "4092df36-6290-4c50-88c6-fae8163965ea",
   "metadata": {},
   "outputs": [
    {
     "data": {
      "text/plain": [
       "'DAZ'"
      ]
     },
     "execution_count": 52,
     "metadata": {},
     "output_type": "execute_result"
    }
   ],
   "source": [
    "c[0:9:3]"
   ]
  },
  {
   "cell_type": "code",
   "execution_count": 1,
   "id": "2e5387d4-0dc7-48f3-ae31-c130e07583ae",
   "metadata": {},
   "outputs": [],
   "source": [
    "R=\"DATAENGINEERING\"  #DAG"
   ]
  },
  {
   "cell_type": "code",
   "execution_count": 3,
   "id": "00f623b6-41ed-41c1-9059-0efc861a3aa1",
   "metadata": {},
   "outputs": [
    {
     "data": {
      "text/plain": [
       "'DAG'"
      ]
     },
     "execution_count": 3,
     "metadata": {},
     "output_type": "execute_result"
    }
   ],
   "source": [
    "R[0:7:3]"
   ]
  },
  {
   "cell_type": "code",
   "execution_count": 5,
   "id": "c0abcd35-b10a-44cd-ab66-d266b72cc692",
   "metadata": {},
   "outputs": [],
   "source": [
    "E=\"PYTHON\"  #PO"
   ]
  },
  {
   "cell_type": "code",
   "execution_count": 7,
   "id": "5e24e295-d72c-41e5-bf69-8e7376460e34",
   "metadata": {},
   "outputs": [
    {
     "data": {
      "text/plain": [
       "'PO'"
      ]
     },
     "execution_count": 7,
     "metadata": {},
     "output_type": "execute_result"
    }
   ],
   "source": [
    "E[0:5:4]"
   ]
  },
  {
   "cell_type": "code",
   "execution_count": 21,
   "id": "e957d7fc-ed16-4bec-984e-a44ca62e8631",
   "metadata": {},
   "outputs": [],
   "source": [
    "F=\"DATA ENGINEERING\""
   ]
  },
  {
   "cell_type": "code",
   "execution_count": 23,
   "id": "71cd820d-77f4-4553-903a-692d12fde5d8",
   "metadata": {},
   "outputs": [
    {
     "data": {
      "text/plain": [
       "'DATA ENGINEERING'"
      ]
     },
     "execution_count": 23,
     "metadata": {},
     "output_type": "execute_result"
    }
   ],
   "source": [
    "F[:]"
   ]
  },
  {
   "cell_type": "code",
   "execution_count": 25,
   "id": "6c212478-477f-45e4-81a6-eed13a682c93",
   "metadata": {},
   "outputs": [],
   "source": [
    "#I NEED \"DATA ENGINEERING\""
   ]
  },
  {
   "cell_type": "code",
   "execution_count": 27,
   "id": "de9ed605-1410-4f37-8a61-349e6b9087f6",
   "metadata": {},
   "outputs": [
    {
     "data": {
      "text/plain": [
       "'DATA ENGINEERING'"
      ]
     },
     "execution_count": 27,
     "metadata": {},
     "output_type": "execute_result"
    }
   ],
   "source": [
    "F[0:16]"
   ]
  },
  {
   "cell_type": "code",
   "execution_count": 29,
   "id": "1be1fa10-03eb-44d2-9bdc-b1ddcebf606d",
   "metadata": {},
   "outputs": [
    {
     "data": {
      "text/plain": [
       "'DATA ENGINEERING'"
      ]
     },
     "execution_count": 29,
     "metadata": {},
     "output_type": "execute_result"
    }
   ],
   "source": [
    "F"
   ]
  },
  {
   "cell_type": "code",
   "execution_count": 31,
   "id": "445d0fe1-a845-4e6e-aa32-d8a5f2cf39ba",
   "metadata": {},
   "outputs": [
    {
     "data": {
      "text/plain": [
       "'DATA ENGINEERING'"
      ]
     },
     "execution_count": 31,
     "metadata": {},
     "output_type": "execute_result"
    }
   ],
   "source": [
    "F[:]"
   ]
  },
  {
   "cell_type": "code",
   "execution_count": 33,
   "id": "11516200-95ad-4dd8-819e-8284ec6e3a0e",
   "metadata": {},
   "outputs": [
    {
     "data": {
      "text/plain": [
       "'ENGINEERING'"
      ]
     },
     "execution_count": 33,
     "metadata": {},
     "output_type": "execute_result"
    }
   ],
   "source": [
    "F[5:]"
   ]
  },
  {
   "cell_type": "code",
   "execution_count": 37,
   "id": "538d1886-26cf-4aaf-8d6d-af1b63e1ed1f",
   "metadata": {},
   "outputs": [
    {
     "data": {
      "text/plain": [
       "str"
      ]
     },
     "execution_count": 37,
     "metadata": {},
     "output_type": "execute_result"
    }
   ],
   "source": [
    "type(F)"
   ]
  },
  {
   "cell_type": "code",
   "execution_count": 1,
   "id": "257fc12b-d436-4c7d-a8a5-105598529324",
   "metadata": {},
   "outputs": [],
   "source": [
    "T=\"veena\""
   ]
  },
  {
   "cell_type": "code",
   "execution_count": 3,
   "id": "a08c9917-06cc-40c9-8ce8-cf624d172b30",
   "metadata": {},
   "outputs": [
    {
     "data": {
      "text/plain": [
       "str"
      ]
     },
     "execution_count": 3,
     "metadata": {},
     "output_type": "execute_result"
    }
   ],
   "source": [
    "type(T)"
   ]
  },
  {
   "cell_type": "code",
   "execution_count": 5,
   "id": "f2f851e8-6d6f-49db-8768-03a0731afdb2",
   "metadata": {},
   "outputs": [],
   "source": [
    "%config Completer.use_jedi=False"
   ]
  },
  {
   "cell_type": "code",
   "execution_count": 7,
   "id": "0361ce6f-4144-455a-bb1f-e3f985b0f029",
   "metadata": {},
   "outputs": [
    {
     "data": {
      "text/plain": [
       "'Veena'"
      ]
     },
     "execution_count": 7,
     "metadata": {},
     "output_type": "execute_result"
    }
   ],
   "source": [
    "T.capitalize()"
   ]
  },
  {
   "cell_type": "code",
   "execution_count": 9,
   "id": "a58f2935-feec-4d90-9e30-e33c86676b09",
   "metadata": {},
   "outputs": [
    {
     "data": {
      "text/plain": [
       "'veena'"
      ]
     },
     "execution_count": 9,
     "metadata": {},
     "output_type": "execute_result"
    }
   ],
   "source": [
    "T.casefold()"
   ]
  },
  {
   "cell_type": "code",
   "execution_count": 11,
   "id": "d2204fde-2079-4392-9edb-d5f5b9fe2bd5",
   "metadata": {},
   "outputs": [],
   "source": [
    "U=\"VEENA\""
   ]
  },
  {
   "cell_type": "code",
   "execution_count": 13,
   "id": "96d1254b-2ee5-48c7-9a77-867aa1bb56ca",
   "metadata": {},
   "outputs": [
    {
     "data": {
      "text/plain": [
       "'veena'"
      ]
     },
     "execution_count": 13,
     "metadata": {},
     "output_type": "execute_result"
    }
   ],
   "source": [
    "U.casefold()"
   ]
  },
  {
   "cell_type": "code",
   "execution_count": 15,
   "id": "e39c943f-319e-4c62-b38c-89f7007ac53e",
   "metadata": {},
   "outputs": [],
   "source": [
    "R=\"VEENA TUPPAD\""
   ]
  },
  {
   "cell_type": "code",
   "execution_count": 17,
   "id": "fa6e4f96-b1c1-4894-ad64-2b98b90beebc",
   "metadata": {},
   "outputs": [
    {
     "data": {
      "text/plain": [
       "'veena tuppad'"
      ]
     },
     "execution_count": 17,
     "metadata": {},
     "output_type": "execute_result"
    }
   ],
   "source": [
    "R.casefold()"
   ]
  },
  {
   "cell_type": "code",
   "execution_count": 21,
   "id": "4ec1bd82-0635-432d-a626-f5e8421e9195",
   "metadata": {},
   "outputs": [],
   "source": [
    "S=\"veena tuppad\""
   ]
  },
  {
   "cell_type": "code",
   "execution_count": 23,
   "id": "4fde466c-46ed-474e-9796-cc597c26918e",
   "metadata": {},
   "outputs": [
    {
     "data": {
      "text/plain": [
       "'veena tuppad'"
      ]
     },
     "execution_count": 23,
     "metadata": {},
     "output_type": "execute_result"
    }
   ],
   "source": [
    "S.casefold()"
   ]
  },
  {
   "cell_type": "code",
   "execution_count": 25,
   "id": "e81a82a3-2c28-46f3-b271-bf4515783138",
   "metadata": {},
   "outputs": [],
   "source": [
    "f=\"VEENA\""
   ]
  },
  {
   "cell_type": "code",
   "execution_count": 27,
   "id": "ba7a89a5-e162-4a54-aa55-7fae1712bc81",
   "metadata": {},
   "outputs": [
    {
     "data": {
      "text/plain": [
       "'veena'"
      ]
     },
     "execution_count": 27,
     "metadata": {},
     "output_type": "execute_result"
    }
   ],
   "source": [
    "f.lower()"
   ]
  },
  {
   "cell_type": "code",
   "execution_count": 29,
   "id": "6a3053f7-abc1-4168-bdba-fa5fbe1d6815",
   "metadata": {},
   "outputs": [
    {
     "data": {
      "text/plain": [
       "False"
      ]
     },
     "execution_count": 29,
     "metadata": {},
     "output_type": "execute_result"
    }
   ],
   "source": [
    "f.islower()"
   ]
  },
  {
   "cell_type": "code",
   "execution_count": 31,
   "id": "cd1ff7e3-219c-4a71-881e-7d69e22ab3aa",
   "metadata": {},
   "outputs": [],
   "source": [
    "f=\"veena\""
   ]
  },
  {
   "cell_type": "code",
   "execution_count": 33,
   "id": "f67c73d1-cdc1-445b-bfec-1162a86abca0",
   "metadata": {},
   "outputs": [
    {
     "data": {
      "text/plain": [
       "True"
      ]
     },
     "execution_count": 33,
     "metadata": {},
     "output_type": "execute_result"
    }
   ],
   "source": [
    "f.islower()"
   ]
  },
  {
   "cell_type": "code",
   "execution_count": 35,
   "id": "927d51e1-4a0b-4ae7-b020-898365f57d98",
   "metadata": {},
   "outputs": [],
   "source": [
    "f=\"Veena\""
   ]
  },
  {
   "cell_type": "code",
   "execution_count": 37,
   "id": "c6f73753-96f4-4b6a-a0aa-7364168c9ab5",
   "metadata": {},
   "outputs": [
    {
     "data": {
      "text/plain": [
       "False"
      ]
     },
     "execution_count": 37,
     "metadata": {},
     "output_type": "execute_result"
    }
   ],
   "source": [
    "f.islower()"
   ]
  },
  {
   "cell_type": "code",
   "execution_count": 61,
   "id": "dda4ec0d-58b5-478d-ac8b-8797e0b3071f",
   "metadata": {},
   "outputs": [],
   "source": [
    "b=\"123veena\""
   ]
  },
  {
   "cell_type": "code",
   "execution_count": 63,
   "id": "b4a5d70c-bccc-47a7-9c32-e5417b6d2004",
   "metadata": {},
   "outputs": [
    {
     "data": {
      "text/plain": [
       "False"
      ]
     },
     "execution_count": 63,
     "metadata": {},
     "output_type": "execute_result"
    }
   ],
   "source": [
    "b.isdigit()"
   ]
  },
  {
   "cell_type": "code",
   "execution_count": 65,
   "id": "c80c3301-7625-405e-b211-f26a53fc63f9",
   "metadata": {},
   "outputs": [],
   "source": [
    "c=\"1234567\""
   ]
  },
  {
   "cell_type": "code",
   "execution_count": 67,
   "id": "1fc5436d-69f1-413f-a88d-4cc7834635cc",
   "metadata": {},
   "outputs": [
    {
     "data": {
      "text/plain": [
       "True"
      ]
     },
     "execution_count": 67,
     "metadata": {},
     "output_type": "execute_result"
    }
   ],
   "source": [
    "c.isdigit()"
   ]
  },
  {
   "cell_type": "code",
   "execution_count": 69,
   "id": "6afaabca-e5b1-4d84-966e-32d24a6e8470",
   "metadata": {},
   "outputs": [],
   "source": [
    "b=\"v1\""
   ]
  },
  {
   "cell_type": "code",
   "execution_count": 71,
   "id": "9b6f6187-3821-4412-900f-e057f113622c",
   "metadata": {},
   "outputs": [
    {
     "data": {
      "text/plain": [
       "False"
      ]
     },
     "execution_count": 71,
     "metadata": {},
     "output_type": "execute_result"
    }
   ],
   "source": [
    "b.isdigit()"
   ]
  },
  {
   "cell_type": "code",
   "execution_count": 83,
   "id": "7611e40b-cd64-40b6-ac0a-52e69d330220",
   "metadata": {},
   "outputs": [
    {
     "data": {
      "text/plain": [
       "1"
      ]
     },
     "execution_count": 83,
     "metadata": {},
     "output_type": "execute_result"
    }
   ],
   "source": [
    "c.count(\"3\")"
   ]
  },
  {
   "cell_type": "code",
   "execution_count": 85,
   "id": "74566fde-392c-4ae9-af56-c40fee5bbfff",
   "metadata": {},
   "outputs": [
    {
     "data": {
      "text/plain": [
       "2"
      ]
     },
     "execution_count": 85,
     "metadata": {},
     "output_type": "execute_result"
    }
   ],
   "source": [
    "\n",
    "b=\"123veena\"\n",
    "b.count('e')"
   ]
  },
  {
   "cell_type": "code",
   "execution_count": 87,
   "id": "f1536c6e-df36-47d7-ba40-de4107177185",
   "metadata": {},
   "outputs": [
    {
     "data": {
      "text/plain": [
       "8"
      ]
     },
     "execution_count": 87,
     "metadata": {},
     "output_type": "execute_result"
    }
   ],
   "source": [
    "len(b)"
   ]
  },
  {
   "cell_type": "code",
   "execution_count": null,
   "id": "50d8ebf1-cd50-49fb-8de5-8a6f0842af9a",
   "metadata": {},
   "outputs": [],
   "source": []
  }
 ],
 "metadata": {
  "kernelspec": {
   "display_name": "Python [conda env:base] *",
   "language": "python",
   "name": "conda-base-py"
  },
  "language_info": {
   "codemirror_mode": {
    "name": "ipython",
    "version": 3
   },
   "file_extension": ".py",
   "mimetype": "text/x-python",
   "name": "python",
   "nbconvert_exporter": "python",
   "pygments_lexer": "ipython3",
   "version": "3.12.7"
  }
 },
 "nbformat": 4,
 "nbformat_minor": 5
}
