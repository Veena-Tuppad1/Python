{
 "cells": [
  {
   "cell_type": "code",
   "execution_count": null,
   "id": "4107ce21-3e1e-44d2-a31b-15c800939819",
   "metadata": {},
   "outputs": [],
   "source": [
    "#Functions\n",
    "#Write some logic,and reuse as many times as possible\n",
    "#u have to start with key word def"
   ]
  },
  {
   "cell_type": "code",
   "execution_count": 7,
   "id": "1cfb1a60-b74d-41b9-9eba-2a49eb2a36b8",
   "metadata": {},
   "outputs": [
    {
     "name": "stdout",
     "output_type": "stream",
     "text": [
      "Hello !! Good Morning  Veena\n"
     ]
    }
   ],
   "source": [
    "def greetings(name):\n",
    "    print(\"Hello !! Good Morning \", name)\n",
    "\n",
    "greetings(\"Veena\")"
   ]
  },
  {
   "cell_type": "code",
   "execution_count": 9,
   "id": "53f31b87-67d7-40b5-ab92-9ac78094d188",
   "metadata": {},
   "outputs": [
    {
     "name": "stdout",
     "output_type": "stream",
     "text": [
      "Hello !! Good Morning  Vani\n"
     ]
    }
   ],
   "source": [
    "greetings(\"Vani\")"
   ]
  },
  {
   "cell_type": "code",
   "execution_count": 11,
   "id": "1c6f5510-7ca4-4614-9206-190c8a1a00e1",
   "metadata": {},
   "outputs": [
    {
     "name": "stdout",
     "output_type": "stream",
     "text": [
      "Hello !! Good Morning  Vidya\n"
     ]
    }
   ],
   "source": [
    "greetings(\"Vidya\")"
   ]
  },
  {
   "cell_type": "code",
   "execution_count": 13,
   "id": "3c319a38-d3df-49f4-942d-18e753de23dd",
   "metadata": {},
   "outputs": [
    {
     "name": "stdout",
     "output_type": "stream",
     "text": [
      "Hello !! Good Morning  Aparna\n"
     ]
    }
   ],
   "source": [
    "greetings(\"Aparna\")"
   ]
  },
  {
   "cell_type": "code",
   "execution_count": 17,
   "id": "ff9b4fe4-8917-43f7-be93-c39ef8e355f7",
   "metadata": {},
   "outputs": [],
   "source": [
    "def add(a,b):\n",
    "    c=a+b\n",
    "    print(c)"
   ]
  },
  {
   "cell_type": "code",
   "execution_count": 19,
   "id": "0ffc5483-771a-44bf-a9dd-2d4dd3250c3b",
   "metadata": {},
   "outputs": [
    {
     "name": "stdout",
     "output_type": "stream",
     "text": [
      "30\n"
     ]
    }
   ],
   "source": [
    "add(10,20)"
   ]
  },
  {
   "cell_type": "code",
   "execution_count": 21,
   "id": "393ee872-758c-4b59-b36d-7b283092fcee",
   "metadata": {},
   "outputs": [
    {
     "name": "stdout",
     "output_type": "stream",
     "text": [
      "60\n"
     ]
    }
   ],
   "source": [
    "add(20,40)"
   ]
  },
  {
   "cell_type": "code",
   "execution_count": 23,
   "id": "5858b668-c470-4aaa-9985-6a3029d2d945",
   "metadata": {},
   "outputs": [
    {
     "name": "stdout",
     "output_type": "stream",
     "text": [
      "10\n"
     ]
    }
   ],
   "source": [
    "add(20,-10)\n"
   ]
  },
  {
   "cell_type": "code",
   "execution_count": 25,
   "id": "ffc50f10-7d5c-4a83-b690-8e9cdaa63e97",
   "metadata": {},
   "outputs": [
    {
     "name": "stdout",
     "output_type": "stream",
     "text": [
      "190\n"
     ]
    }
   ],
   "source": [
    "add(90,100)"
   ]
  },
  {
   "cell_type": "code",
   "execution_count": 29,
   "id": "eb97ad73-5fbc-47fc-9169-a4b655777850",
   "metadata": {},
   "outputs": [],
   "source": [
    "def studentresult(a):\n",
    "    if a>=35:\n",
    "        print(\"The student is passed\")\n",
    "    else:\n",
    "        print(\"The student is failed\")"
   ]
  },
  {
   "cell_type": "code",
   "execution_count": 31,
   "id": "2780678c-6038-48da-999e-56f926232d72",
   "metadata": {},
   "outputs": [
    {
     "name": "stdout",
     "output_type": "stream",
     "text": [
      "The student is passed\n"
     ]
    }
   ],
   "source": [
    "studentresult(35)"
   ]
  },
  {
   "cell_type": "code",
   "execution_count": 33,
   "id": "71c55aa4-e715-4ffa-948a-c65cce7fa51a",
   "metadata": {},
   "outputs": [
    {
     "name": "stdout",
     "output_type": "stream",
     "text": [
      "The student is passed\n"
     ]
    }
   ],
   "source": [
    "studentresult(95)"
   ]
  },
  {
   "cell_type": "code",
   "execution_count": 35,
   "id": "6cc5ffeb-d493-4d01-9fab-d34536e2d9dc",
   "metadata": {},
   "outputs": [
    {
     "name": "stdout",
     "output_type": "stream",
     "text": [
      "The student is failed\n"
     ]
    }
   ],
   "source": [
    "studentresult(-34)"
   ]
  },
  {
   "cell_type": "code",
   "execution_count": 37,
   "id": "efc81b81-5785-4d64-b8fc-565b22fe8a51",
   "metadata": {},
   "outputs": [
    {
     "name": "stdout",
     "output_type": "stream",
     "text": [
      "The student is passed\n"
     ]
    }
   ],
   "source": [
    "studentresult(39)"
   ]
  },
  {
   "cell_type": "code",
   "execution_count": 39,
   "id": "537b329e-155b-4bc0-831d-b121f8e919d3",
   "metadata": {},
   "outputs": [],
   "source": [
    "def student_result(a):\n",
    "    if a<35:\n",
    "        print(\"The student is failed\")\n",
    "    elif a>=35 and a<80:\n",
    "        print(\"The student is passed - average student\")\n",
    "    elif a>=80 and a<90:\n",
    "        print(\"The student is passed - first class student\")\n",
    "    else:\n",
    "        print(\"The student is topper\")"
   ]
  },
  {
   "cell_type": "code",
   "execution_count": 41,
   "id": "4c8284eb-6523-477c-93d5-1375f8f2b836",
   "metadata": {},
   "outputs": [
    {
     "name": "stdout",
     "output_type": "stream",
     "text": [
      "The student is topper\n"
     ]
    }
   ],
   "source": [
    "student_result(90)"
   ]
  },
  {
   "cell_type": "code",
   "execution_count": 43,
   "id": "75932c09-38a2-4304-a58f-34ebff6041e9",
   "metadata": {},
   "outputs": [
    {
     "name": "stdout",
     "output_type": "stream",
     "text": [
      "The student is passed - first class student\n"
     ]
    }
   ],
   "source": [
    "student_result(89)"
   ]
  },
  {
   "cell_type": "code",
   "execution_count": 45,
   "id": "1a7a5583-42b7-4efe-bb22-7c5e9c746c28",
   "metadata": {},
   "outputs": [
    {
     "name": "stdout",
     "output_type": "stream",
     "text": [
      "The student is failed\n"
     ]
    }
   ],
   "source": [
    "student_result(32)"
   ]
  },
  {
   "cell_type": "code",
   "execution_count": 53,
   "id": "e334cca9-41e3-4a0e-b6c2-26486e6f65cd",
   "metadata": {},
   "outputs": [
    {
     "name": "stdout",
     "output_type": "stream",
     "text": [
      "Enter the student Marks : \n"
     ]
    },
    {
     "name": "stdin",
     "output_type": "stream",
     "text": [
      " 23\n"
     ]
    },
    {
     "name": "stdout",
     "output_type": "stream",
     "text": [
      "The student is failed\n"
     ]
    }
   ],
   "source": [
    "print(\"Enter the student Marks : \")\n",
    "a=int(input()) # accepting inputs from the end users\n",
    "student_result(a)"
   ]
  },
  {
   "cell_type": "code",
   "execution_count": null,
   "id": "63a9e561-3c1c-4fd6-a6a8-d5896d0dd1ff",
   "metadata": {},
   "outputs": [],
   "source": []
  }
 ],
 "metadata": {
  "kernelspec": {
   "display_name": "Python [conda env:base] *",
   "language": "python",
   "name": "conda-base-py"
  },
  "language_info": {
   "codemirror_mode": {
    "name": "ipython",
    "version": 3
   },
   "file_extension": ".py",
   "mimetype": "text/x-python",
   "name": "python",
   "nbconvert_exporter": "python",
   "pygments_lexer": "ipython3",
   "version": "3.12.7"
  }
 },
 "nbformat": 4,
 "nbformat_minor": 5
}
